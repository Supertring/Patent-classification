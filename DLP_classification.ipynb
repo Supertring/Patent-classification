{
  "nbformat": 4,
  "nbformat_minor": 0,
  "metadata": {
    "colab": {
      "name": "DLP_classification.ipynb",
      "provenance": [],
      "collapsed_sections": [],
      "toc_visible": true
    },
    "kernelspec": {
      "name": "python3",
      "display_name": "Python 3"
    },
    "accelerator": "GPU"
  },
  "cells": [
    {
      "cell_type": "markdown",
      "metadata": {
        "id": "3rh1dQS0LaMj"
      },
      "source": [
        "# Main Implementation :CNN1D\n",
        "  * __Simple Dense and RNN are also implemented to show the difference in the result.__ \n",
        "#Motivation\n",
        "  * __The motive of the project is to show the approach of deep learning and the possibility of working with less datasets and the accuracy that we gained with less datasets.__\n",
        "\n",
        "  * __Futher Pretained Network model (eg: BERT) can be used to gain more accuracy.__"
      ]
    },
    {
      "cell_type": "code",
      "metadata": {
        "id": "b8geE9VnN9hL",
        "colab": {
          "base_uri": "https://localhost:8080/",
          "height": 55
        },
        "outputId": "718f0619-c5aa-4f92-a63d-15b2a47aed5e"
      },
      "source": [
        "from google.colab import drive\n",
        "drive.mount('/content/drive')"
      ],
      "execution_count": null,
      "outputs": [
        {
          "output_type": "stream",
          "text": [
            "Drive already mounted at /content/drive; to attempt to forcibly remount, call drive.mount(\"/content/drive\", force_remount=True).\n"
          ],
          "name": "stdout"
        }
      ]
    },
    {
      "cell_type": "code",
      "metadata": {
        "id": "1LlfPQj5OHBt"
      },
      "source": [
        "import pandas as pd\n",
        "import numpy as np\n",
        "import os\n",
        "from keras.preprocessing.text import Tokenizer\n",
        "from keras.preprocessing.sequence import pad_sequences\n",
        "from keras.utils import to_categorical\n",
        "\n",
        "import matplotlib.pyplot as plt\n"
      ],
      "execution_count": null,
      "outputs": []
    },
    {
      "cell_type": "code",
      "metadata": {
        "id": "pNPO45f-PLkg"
      },
      "source": [
        "wipo = pd.read_csv('/content/drive/My Drive/wipo_alpha.csv')"
      ],
      "execution_count": null,
      "outputs": []
    },
    {
      "cell_type": "code",
      "metadata": {
        "id": "zuiXrPVSPRTK"
      },
      "source": [
        "wipo = wipo.dropna()"
      ],
      "execution_count": null,
      "outputs": []
    },
    {
      "cell_type": "code",
      "metadata": {
        "id": "GBrkW_VkPa7-",
        "colab": {
          "base_uri": "https://localhost:8080/",
          "height": 35
        },
        "outputId": "50dfb4cb-e56b-4fc7-f460-bfce83b8d769"
      },
      "source": [
        "wipo.shape"
      ],
      "execution_count": null,
      "outputs": [
        {
          "output_type": "execute_result",
          "data": {
            "text/plain": [
              "(10396, 2)"
            ]
          },
          "metadata": {
            "tags": []
          },
          "execution_count": 56
        }
      ]
    },
    {
      "cell_type": "code",
      "metadata": {
        "id": "v_iMB0SlPfKz",
        "colab": {
          "base_uri": "https://localhost:8080/",
          "height": 204
        },
        "outputId": "a44b40a8-4a48-48b9-fe2c-28bdaaaff5bb"
      },
      "source": [
        "wipo.head()"
      ],
      "execution_count": null,
      "outputs": [
        {
          "output_type": "execute_result",
          "data": {
            "text/html": [
              "<div>\n",
              "<style scoped>\n",
              "    .dataframe tbody tr th:only-of-type {\n",
              "        vertical-align: middle;\n",
              "    }\n",
              "\n",
              "    .dataframe tbody tr th {\n",
              "        vertical-align: top;\n",
              "    }\n",
              "\n",
              "    .dataframe thead th {\n",
              "        text-align: right;\n",
              "    }\n",
              "</style>\n",
              "<table border=\"1\" class=\"dataframe\">\n",
              "  <thead>\n",
              "    <tr style=\"text-align: right;\">\n",
              "      <th></th>\n",
              "      <th>text</th>\n",
              "      <th>label</th>\n",
              "    </tr>\n",
              "  </thead>\n",
              "  <tbody>\n",
              "    <tr>\n",
              "      <th>0</th>\n",
              "      <td>apparatus for carrying out a physical and or c...</td>\n",
              "      <td>f</td>\n",
              "    </tr>\n",
              "    <tr>\n",
              "      <th>1</th>\n",
              "      <td>dispersing agents and dispersions made therefr...</td>\n",
              "      <td>c</td>\n",
              "    </tr>\n",
              "    <tr>\n",
              "      <th>2</th>\n",
              "      <td>fault location in a medium voltage network a m...</td>\n",
              "      <td>g</td>\n",
              "    </tr>\n",
              "    <tr>\n",
              "      <th>3</th>\n",
              "      <td>canvasses reinforced with metal members the in...</td>\n",
              "      <td>d</td>\n",
              "    </tr>\n",
              "    <tr>\n",
              "      <th>4</th>\n",
              "      <td>building element a building element comprises ...</td>\n",
              "      <td>e</td>\n",
              "    </tr>\n",
              "  </tbody>\n",
              "</table>\n",
              "</div>"
            ],
            "text/plain": [
              "                                                text label\n",
              "0  apparatus for carrying out a physical and or c...     f\n",
              "1  dispersing agents and dispersions made therefr...     c\n",
              "2  fault location in a medium voltage network a m...     g\n",
              "3  canvasses reinforced with metal members the in...     d\n",
              "4  building element a building element comprises ...     e"
            ]
          },
          "metadata": {
            "tags": []
          },
          "execution_count": 57
        }
      ]
    },
    {
      "cell_type": "code",
      "metadata": {
        "id": "T6qqeBB1Pj2c",
        "colab": {
          "base_uri": "https://localhost:8080/",
          "height": 35
        },
        "outputId": "60f0c4bd-9c92-4d2d-ce0c-713210daefab"
      },
      "source": [
        "wipo_text = wipo['text']\n",
        "wipo_text.shape"
      ],
      "execution_count": null,
      "outputs": [
        {
          "output_type": "execute_result",
          "data": {
            "text/plain": [
              "(10396,)"
            ]
          },
          "metadata": {
            "tags": []
          },
          "execution_count": 58
        }
      ]
    },
    {
      "cell_type": "code",
      "metadata": {
        "id": "qCAjXmdmPpNM",
        "colab": {
          "base_uri": "https://localhost:8080/",
          "height": 35
        },
        "outputId": "2ed779c2-318b-42dc-dbc7-a035df5a04ce"
      },
      "source": [
        "wipo_label = wipo.label.astype(\"category\").cat.codes\n",
        "wipo_label.shape"
      ],
      "execution_count": null,
      "outputs": [
        {
          "output_type": "execute_result",
          "data": {
            "text/plain": [
              "(10396,)"
            ]
          },
          "metadata": {
            "tags": []
          },
          "execution_count": 59
        }
      ]
    },
    {
      "cell_type": "markdown",
      "metadata": {
        "id": "fjomjiHRQMSo"
      },
      "source": [
        "__Tokenizing the text of the raw wipo datasets__\n",
        "\n"
      ]
    },
    {
      "cell_type": "code",
      "metadata": {
        "id": "TR0LMdWJQT6h"
      },
      "source": [
        "#cut the text after 1500 words\n",
        "maxlen = 100\n",
        "\n",
        "#training samples\n",
        "train_samples = 5000\n",
        "\n",
        "#consider only the top 10000 words in the dataset\n",
        "max_words = 10000"
      ],
      "execution_count": null,
      "outputs": []
    },
    {
      "cell_type": "code",
      "metadata": {
        "id": "g_gtmGcBQX2M"
      },
      "source": [
        "tokenizer = Tokenizer(num_words = max_words)"
      ],
      "execution_count": null,
      "outputs": []
    },
    {
      "cell_type": "code",
      "metadata": {
        "id": "Ry8jABnPRAzT"
      },
      "source": [
        "tokenizer.fit_on_texts(wipo_text)"
      ],
      "execution_count": null,
      "outputs": []
    },
    {
      "cell_type": "code",
      "metadata": {
        "id": "ngPAu7fvRKRB"
      },
      "source": [
        "sequences = tokenizer.texts_to_sequences(wipo_text)"
      ],
      "execution_count": null,
      "outputs": []
    },
    {
      "cell_type": "code",
      "metadata": {
        "id": "s5Lz5MwuR0qE",
        "colab": {
          "base_uri": "https://localhost:8080/",
          "height": 35
        },
        "outputId": "254b98c2-676b-49af-9e23-482f2569e659"
      },
      "source": [
        "word_index = tokenizer.word_index\n",
        "print(\"found %s unique tokens\" % len(word_index))"
      ],
      "execution_count": null,
      "outputs": [
        {
          "output_type": "stream",
          "text": [
            "found 280371 unique tokens\n"
          ],
          "name": "stdout"
        }
      ]
    },
    {
      "cell_type": "code",
      "metadata": {
        "id": "HhZJvAItR8Rx",
        "colab": {
          "base_uri": "https://localhost:8080/",
          "height": 53
        },
        "outputId": "a2175187-83cc-4e3e-ee8f-af600fff3243"
      },
      "source": [
        "data = pad_sequences(sequences, maxlen=maxlen)\n",
        "labels = to_categorical(wipo_label)\n",
        "\n",
        "print('Shape of data tensor:', data.shape)\n",
        "print('shape of label tensor:', labels.shape)"
      ],
      "execution_count": null,
      "outputs": [
        {
          "output_type": "stream",
          "text": [
            "Shape of data tensor: (10396, 100)\n",
            "shape of label tensor: (10396, 8)\n"
          ],
          "name": "stdout"
        }
      ]
    },
    {
      "cell_type": "markdown",
      "metadata": {
        "id": "9J8f3-xZTf8o"
      },
      "source": [
        "__Split train, validation and test data sets__"
      ]
    },
    {
      "cell_type": "code",
      "metadata": {
        "id": "flJCaB3-TmN-"
      },
      "source": [
        "x_train = data[:5000]\n",
        "y_train = labels[:5000]\n",
        "\n",
        "x_val = data[5000:7500]\n",
        "y_val = labels[5000:7500]\n",
        "\n",
        "x_test = data[7500:]\n",
        "y_test = labels[7500:]"
      ],
      "execution_count": null,
      "outputs": []
    },
    {
      "cell_type": "markdown",
      "metadata": {
        "id": "ZlOuU99RV0fz"
      },
      "source": [
        "__Preprocessing the Embeddings__"
      ]
    },
    {
      "cell_type": "code",
      "metadata": {
        "id": "6qIRXv_eV21i",
        "colab": {
          "base_uri": "https://localhost:8080/",
          "height": 35
        },
        "outputId": "4e4bb98a-b71c-463f-987a-012c1a1a5589"
      },
      "source": [
        "glove_dir = '/content/drive/My Drive'\n",
        "\n",
        "embeddings_index = {}\n",
        "f  = open(os.path.join(glove_dir,'glove.6B.100d.txt'))\n",
        "for line in f:\n",
        "  values = line.split()\n",
        "  word = values[0]\n",
        "  coefs = np.asarray(values[1:], dtype='float32')\n",
        "  embeddings_index[word] = coefs\n",
        "f.close()\n",
        "\n",
        "print('Found %s word vectors.' %len(embeddings_index))"
      ],
      "execution_count": null,
      "outputs": [
        {
          "output_type": "stream",
          "text": [
            "Found 400000 word vectors.\n"
          ],
          "name": "stdout"
        }
      ]
    },
    {
      "cell_type": "markdown",
      "metadata": {
        "id": "SQBRp09dXPSn"
      },
      "source": [
        "__Preparing the GloVe word-embeddings matrix__"
      ]
    },
    {
      "cell_type": "code",
      "metadata": {
        "id": "eCsOZepmWx7I"
      },
      "source": [
        "embedding_dim = 100\n",
        "embedding_matrix = np.zeros((max_words, embedding_dim))\n",
        "\n",
        "for word, i in word_index.items():\n",
        "  if i < max_words:\n",
        "    embedding_vector = embeddings_index.get(word)\n",
        "    if embedding_vector is not None:\n",
        "      embedding_matrix[i] =  embedding_vector"
      ],
      "execution_count": null,
      "outputs": []
    },
    {
      "cell_type": "code",
      "metadata": {
        "id": "IN8kOFB-X6LP",
        "colab": {
          "base_uri": "https://localhost:8080/",
          "height": 35
        },
        "outputId": "439260c3-3008-4c3f-8d97-41cb3d657f16"
      },
      "source": [
        "embedding_matrix.shape"
      ],
      "execution_count": null,
      "outputs": [
        {
          "output_type": "execute_result",
          "data": {
            "text/plain": [
              "(10000, 100)"
            ]
          },
          "metadata": {
            "tags": []
          },
          "execution_count": 86
        }
      ]
    },
    {
      "cell_type": "markdown",
      "metadata": {
        "id": "CHpSZ2qpFJN7"
      },
      "source": [
        "# 1D Convolution Neural Network for Classification"
      ]
    },
    {
      "cell_type": "code",
      "metadata": {
        "id": "c8U6Ab9fFAdw"
      },
      "source": [
        "from keras.models import Sequential\n",
        "from keras import layers\n",
        "from keras.optimizers import RMSprop\n",
        "\n",
        "model = Sequential()\n",
        "model.add(layers.Embedding(max_words, embedding_dim, input_length=maxlen))\n",
        "model.add(layers.Conv1D(32,7, activation='relu'))\n",
        "model.add(layers.MaxPooling1D(5))\n",
        "model.add(layers.Conv1D(32,7, activation='relu'))\n",
        "model.add(layers.GlobalMaxPooling1D())\n",
        "model.add(layers.Dropout(0.5))\n",
        "model.add(layers.Dense(8, activation='softmax'))"
      ],
      "execution_count": null,
      "outputs": []
    },
    {
      "cell_type": "code",
      "metadata": {
        "id": "lOpVUZ-fFAmU",
        "colab": {
          "base_uri": "https://localhost:8080/",
          "height": 413
        },
        "outputId": "f7404344-34d7-4ba2-bcf9-a2130b0b6b9c"
      },
      "source": [
        "model.summary()"
      ],
      "execution_count": null,
      "outputs": [
        {
          "output_type": "stream",
          "text": [
            "Model: \"sequential_6\"\n",
            "_________________________________________________________________\n",
            "Layer (type)                 Output Shape              Param #   \n",
            "=================================================================\n",
            "embedding_6 (Embedding)      (None, 100, 100)          1000000   \n",
            "_________________________________________________________________\n",
            "conv1d_7 (Conv1D)            (None, 94, 32)            22432     \n",
            "_________________________________________________________________\n",
            "max_pooling1d_4 (MaxPooling1 (None, 18, 32)            0         \n",
            "_________________________________________________________________\n",
            "conv1d_8 (Conv1D)            (None, 12, 32)            7200      \n",
            "_________________________________________________________________\n",
            "global_max_pooling1d_4 (Glob (None, 32)                0         \n",
            "_________________________________________________________________\n",
            "dropout_5 (Dropout)          (None, 32)                0         \n",
            "_________________________________________________________________\n",
            "dense_7 (Dense)              (None, 8)                 264       \n",
            "=================================================================\n",
            "Total params: 1,029,896\n",
            "Trainable params: 1,029,896\n",
            "Non-trainable params: 0\n",
            "_________________________________________________________________\n"
          ],
          "name": "stdout"
        }
      ]
    },
    {
      "cell_type": "markdown",
      "metadata": {
        "id": "pdhcmA5NIQLY"
      },
      "source": [
        "__Loading Glove the Embedding in the model__"
      ]
    },
    {
      "cell_type": "code",
      "metadata": {
        "id": "0tV6C-SaFA-G"
      },
      "source": [
        "model.layers[0].set_weights([embedding_matrix])\n",
        "model.layers[0].trainable = False"
      ],
      "execution_count": null,
      "outputs": []
    },
    {
      "cell_type": "markdown",
      "metadata": {
        "id": "bcdfUZAlIj0u"
      },
      "source": [
        "__Training and Evaluating the model__"
      ]
    },
    {
      "cell_type": "code",
      "metadata": {
        "id": "siDgV5qUIgBU"
      },
      "source": [
        "model.compile(optimizer=RMSprop(lr=1e-4),\n",
        "              loss='binary_crossentropy',\n",
        "              metrics=['acc'])"
      ],
      "execution_count": null,
      "outputs": []
    },
    {
      "cell_type": "code",
      "metadata": {
        "id": "P8FLQoW-FAsA",
        "colab": {
          "base_uri": "https://localhost:8080/",
          "height": 415
        },
        "outputId": "22f7aadd-9144-46a3-aed2-e42595ca9139"
      },
      "source": [
        "history = model.fit(x_train, y_train,\n",
        "                    epochs=10,\n",
        "                    batch_size=32,\n",
        "                    validation_data=(x_val,y_val))"
      ],
      "execution_count": null,
      "outputs": [
        {
          "output_type": "stream",
          "text": [
            "Train on 5000 samples, validate on 2500 samples\n",
            "Epoch 1/10\n",
            "5000/5000 [==============================] - 1s 266us/step - loss: 0.4007 - acc: 0.8705 - val_loss: 0.3763 - val_acc: 0.8750\n",
            "Epoch 2/10\n",
            "5000/5000 [==============================] - 1s 168us/step - loss: 0.3750 - acc: 0.8750 - val_loss: 0.3734 - val_acc: 0.8750\n",
            "Epoch 3/10\n",
            "5000/5000 [==============================] - 1s 163us/step - loss: 0.3716 - acc: 0.8751 - val_loss: 0.3708 - val_acc: 0.8750\n",
            "Epoch 4/10\n",
            "5000/5000 [==============================] - 1s 172us/step - loss: 0.3678 - acc: 0.8754 - val_loss: 0.3684 - val_acc: 0.8750\n",
            "Epoch 5/10\n",
            "5000/5000 [==============================] - 1s 166us/step - loss: 0.3656 - acc: 0.8756 - val_loss: 0.3652 - val_acc: 0.8753\n",
            "Epoch 6/10\n",
            "5000/5000 [==============================] - 1s 162us/step - loss: 0.3623 - acc: 0.8758 - val_loss: 0.3639 - val_acc: 0.8753\n",
            "Epoch 7/10\n",
            "5000/5000 [==============================] - 1s 161us/step - loss: 0.3605 - acc: 0.8754 - val_loss: 0.3612 - val_acc: 0.8755\n",
            "Epoch 8/10\n",
            "5000/5000 [==============================] - 1s 167us/step - loss: 0.3586 - acc: 0.8754 - val_loss: 0.3597 - val_acc: 0.8752\n",
            "Epoch 9/10\n",
            "5000/5000 [==============================] - 1s 166us/step - loss: 0.3566 - acc: 0.8755 - val_loss: 0.3582 - val_acc: 0.8754\n",
            "Epoch 10/10\n",
            "5000/5000 [==============================] - 1s 170us/step - loss: 0.3548 - acc: 0.8759 - val_loss: 0.3567 - val_acc: 0.8756\n"
          ],
          "name": "stdout"
        }
      ]
    },
    {
      "cell_type": "code",
      "metadata": {
        "id": "7TPFcPCCFA4S",
        "colab": {
          "base_uri": "https://localhost:8080/",
          "height": 545
        },
        "outputId": "47f97e53-bc2b-43d7-8701-8d790c199e85"
      },
      "source": [
        "import matplotlib.pyplot as plt\n",
        "acc = history.history['acc']\n",
        "val_acc = history.history['val_acc']\n",
        "loss = history.history['loss']\n",
        "val_loss = history.history['val_loss']\n",
        "epochs = range(1, len(acc) + 1)\n",
        "plt.plot(epochs, acc, 'bo', label='Training acc')\n",
        "plt.plot(epochs, val_acc, 'b', label='Validation acc')\n",
        "plt.title('Training and validation accuracy')\n",
        "plt.legend()\n",
        "plt.figure()\n",
        "plt.plot(epochs, loss, 'bo', label='Training loss')\n",
        "plt.plot(epochs, val_loss, 'b', label='Validation loss')\n",
        "plt.title('Training and validation loss')\n",
        "plt.legend()\n",
        "plt.show()"
      ],
      "execution_count": null,
      "outputs": [
        {
          "output_type": "display_data",
          "data": {
            "image/png": "[encoded data removed]",
            "text/plain": [
              "<Figure size 432x288 with 1 Axes>"
            ]
          },
          "metadata": {
            "tags": []
          }
        },
        {
          "output_type": "display_data",
          "data": {
            "image/png": "[encoded data removed]",
            "text/plain": [
              "<Figure size 432x288 with 1 Axes>"
            ]
          },
          "metadata": {
            "tags": []
          }
        }
      ]
    },
    {
      "cell_type": "code",
      "metadata": {
        "id": "mkHvXCJUNluM",
        "colab": {
          "base_uri": "https://localhost:8080/",
          "height": 35
        },
        "outputId": "4c5af3e5-859d-473a-a85e-cac801ef63b6"
      },
      "source": [
        "history = model.evaluate(x_test, y_test)"
      ],
      "execution_count": null,
      "outputs": [
        {
          "output_type": "stream",
          "text": [
            "2896/2896 [==============================] - 0s 57us/step\n"
          ],
          "name": "stdout"
        }
      ]
    },
    {
      "cell_type": "code",
      "metadata": {
        "id": "vn_AWHJZO7ro",
        "colab": {
          "base_uri": "https://localhost:8080/",
          "height": 35
        },
        "outputId": "a98a8e60-7aa0-4ba6-8afe-7ea52bb0038e"
      },
      "source": [
        "history"
      ],
      "execution_count": null,
      "outputs": [
        {
          "output_type": "execute_result",
          "data": {
            "text/plain": [
              "[0.3584704986922649, 0.8753884668508287]"
            ]
          },
          "metadata": {
            "tags": []
          },
          "execution_count": 94
        }
      ]
    },
    {
      "cell_type": "markdown",
      "metadata": {
        "id": "AwwKNJQuYKww"
      },
      "source": [
        "# __Simple Dense model definition__"
      ]
    },
    {
      "cell_type": "code",
      "metadata": {
        "id": "Aq0vwbfQYFhv",
        "colab": {
          "base_uri": "https://localhost:8080/",
          "height": 341
        },
        "outputId": "2c2294ed-cf71-41e4-b65f-6f1a22107230"
      },
      "source": [
        "from keras.models import Sequential\n",
        "from keras.layers import Embedding, Flatten, Dense\n",
        "from keras import layers\n",
        "\n",
        "model = Sequential()\n",
        "model.add(Embedding(max_words, embedding_dim, input_length=maxlen))\n",
        "model.add(Flatten())\n",
        "model.add(Dense(32, activation='relu'))\n",
        "model.add(layers.Dropout(0.5))\n",
        "model.add(Dense(8, activation='softmax'))\n",
        "model.summary()"
      ],
      "execution_count": null,
      "outputs": [
        {
          "output_type": "stream",
          "text": [
            "Model: \"sequential_7\"\n",
            "_________________________________________________________________\n",
            "Layer (type)                 Output Shape              Param #   \n",
            "=================================================================\n",
            "embedding_7 (Embedding)      (None, 100, 100)          1000000   \n",
            "_________________________________________________________________\n",
            "flatten_2 (Flatten)          (None, 10000)             0         \n",
            "_________________________________________________________________\n",
            "dense_8 (Dense)              (None, 32)                320032    \n",
            "_________________________________________________________________\n",
            "dropout_6 (Dropout)          (None, 32)                0         \n",
            "_________________________________________________________________\n",
            "dense_9 (Dense)              (None, 8)                 264       \n",
            "=================================================================\n",
            "Total params: 1,320,296\n",
            "Trainable params: 1,320,296\n",
            "Non-trainable params: 0\n",
            "_________________________________________________________________\n"
          ],
          "name": "stdout"
        }
      ]
    },
    {
      "cell_type": "markdown",
      "metadata": {
        "id": "HH02axUgbU9s"
      },
      "source": [
        "__Loading the GLoVe Embeddings in the model__\n"
      ]
    },
    {
      "cell_type": "code",
      "metadata": {
        "id": "OEYH5xTLbCRk"
      },
      "source": [
        "model.layers[0].set_weights([embedding_matrix])\n",
        "model.layers[0].trainable = False"
      ],
      "execution_count": null,
      "outputs": []
    },
    {
      "cell_type": "markdown",
      "metadata": {
        "id": "5dErJyLFb4Ke"
      },
      "source": [
        "__Training and Evaluating the Model__"
      ]
    },
    {
      "cell_type": "code",
      "metadata": {
        "id": "HrwWqgqCbpMm",
        "colab": {
          "base_uri": "https://localhost:8080/",
          "height": 415
        },
        "outputId": "bf5c3174-c105-45a1-b33b-3c46f52d89a0"
      },
      "source": [
        "model.compile(optimizer='rmsprop',\n",
        "              loss='binary_crossentropy',\n",
        "              metrics=['acc'])\n",
        "history = model.fit(x_train, y_train,\n",
        "                    epochs=10,\n",
        "                    batch_size=32,\n",
        "                    validation_data=(x_val,y_val))"
      ],
      "execution_count": null,
      "outputs": [
        {
          "output_type": "stream",
          "text": [
            "Train on 5000 samples, validate on 2500 samples\n",
            "Epoch 1/10\n",
            "5000/5000 [==============================] - 1s 216us/step - loss: 0.3823 - acc: 0.8740 - val_loss: 0.3725 - val_acc: 0.8751\n",
            "Epoch 2/10\n",
            "5000/5000 [==============================] - 1s 127us/step - loss: 0.3711 - acc: 0.8760 - val_loss: 0.3690 - val_acc: 0.8766\n",
            "Epoch 3/10\n",
            "5000/5000 [==============================] - 1s 133us/step - loss: 0.3658 - acc: 0.8768 - val_loss: 0.3679 - val_acc: 0.8757\n",
            "Epoch 4/10\n",
            "5000/5000 [==============================] - 1s 127us/step - loss: 0.3631 - acc: 0.8772 - val_loss: 0.3660 - val_acc: 0.8753\n",
            "Epoch 5/10\n",
            "5000/5000 [==============================] - 1s 131us/step - loss: 0.3572 - acc: 0.8782 - val_loss: 0.3624 - val_acc: 0.8762\n",
            "Epoch 6/10\n",
            "5000/5000 [==============================] - 1s 136us/step - loss: 0.3548 - acc: 0.8790 - val_loss: 0.3752 - val_acc: 0.8750\n",
            "Epoch 7/10\n",
            "5000/5000 [==============================] - 1s 141us/step - loss: 0.3505 - acc: 0.8792 - val_loss: 0.3632 - val_acc: 0.8765\n",
            "Epoch 8/10\n",
            "5000/5000 [==============================] - 1s 121us/step - loss: 0.3480 - acc: 0.8797 - val_loss: 0.3674 - val_acc: 0.8764\n",
            "Epoch 9/10\n",
            "5000/5000 [==============================] - 1s 130us/step - loss: 0.3440 - acc: 0.8805 - val_loss: 0.3710 - val_acc: 0.8760\n",
            "Epoch 10/10\n",
            "5000/5000 [==============================] - 1s 136us/step - loss: 0.3436 - acc: 0.8810 - val_loss: 0.3816 - val_acc: 0.8755\n"
          ],
          "name": "stdout"
        }
      ]
    },
    {
      "cell_type": "code",
      "metadata": {
        "id": "VtXTgEx0c7z4",
        "colab": {
          "base_uri": "https://localhost:8080/",
          "height": 545
        },
        "outputId": "9ee2b39b-be82-4537-ac4c-e747660660ee"
      },
      "source": [
        "acc = history.history['acc']\n",
        "val_acc = history.history['val_acc']\n",
        "loss = history.history['loss']\n",
        "val_loss = history.history['val_loss']\n",
        "\n",
        "epochs = range(1, len(acc)+1)\n",
        "\n",
        "plt.plot(epochs, acc, 'bo', label ='Training acc')\n",
        "plt.plot(epochs, val_acc, 'b', label='Validation acc')\n",
        "plt.title('Training and validation accuracy')\n",
        "plt.legend()\n",
        "\n",
        "plt.figure()\n",
        "\n",
        "plt.plot(epochs, loss, 'bo', label='Training loss')\n",
        "plt.plot(epochs, val_loss, 'b', label='validation loss')\n",
        "plt.title('Training and validation loss')\n",
        "plt.legend()\n",
        "\n",
        "plt.show()"
      ],
      "execution_count": null,
      "outputs": [
        {
          "output_type": "display_data",
          "data": {
            "image/png": "[encoded data removed]",
            "text/plain": [
              "<Figure size 432x288 with 1 Axes>"
            ]
          },
          "metadata": {
            "tags": []
          }
        },
        {
          "output_type": "display_data",
          "data": {
            "image/png": "[encoded data removed]",
            "text/plain": [
              "<Figure size 432x288 with 1 Axes>"
            ]
          },
          "metadata": {
            "tags": []
          }
        }
      ]
    },
    {
      "cell_type": "code",
      "metadata": {
        "id": "78-oOaQEjF7O",
        "colab": {
          "base_uri": "https://localhost:8080/",
          "height": 35
        },
        "outputId": "af335319-6d47-411f-e3c4-c426e0538f48"
      },
      "source": [
        "history = model.evaluate(x_test, y_test)"
      ],
      "execution_count": null,
      "outputs": [
        {
          "output_type": "stream",
          "text": [
            "2896/2896 [==============================] - 0s 61us/step\n"
          ],
          "name": "stdout"
        }
      ]
    },
    {
      "cell_type": "code",
      "metadata": {
        "id": "9JbR9GBRl4Xy",
        "colab": {
          "base_uri": "https://localhost:8080/",
          "height": 35
        },
        "outputId": "fbd0d43f-60d7-46cb-b0f9-560754a218dc"
      },
      "source": [
        "history"
      ],
      "execution_count": null,
      "outputs": [
        {
          "output_type": "execute_result",
          "data": {
            "text/plain": [
              "[0.38087872740972106, 0.8738345994475138]"
            ]
          },
          "metadata": {
            "tags": []
          },
          "execution_count": 100
        }
      ]
    },
    {
      "cell_type": "markdown",
      "metadata": {
        "id": "KqIZ3eAtoTxU"
      },
      "source": [
        "# Simple RNN Model Definition"
      ]
    },
    {
      "cell_type": "code",
      "metadata": {
        "id": "FzspUQlhl5fY"
      },
      "source": [
        "from keras.layers import SimpleRNN"
      ],
      "execution_count": null,
      "outputs": []
    },
    {
      "cell_type": "code",
      "metadata": {
        "id": "qS30BuzvoxGH"
      },
      "source": [
        "model = Sequential()\n",
        "model.add(Embedding(max_words,32))\n",
        "model.add(SimpleRNN(32))\n",
        "model.add(Dense(8, activation='softmax'))"
      ],
      "execution_count": null,
      "outputs": []
    },
    {
      "cell_type": "code",
      "metadata": {
        "id": "W13A0XyCpahD",
        "colab": {
          "base_uri": "https://localhost:8080/",
          "height": 415
        },
        "outputId": "7f20aff2-3d33-4a8b-bc39-6ddf454abfa5"
      },
      "source": [
        "model.compile(optimizer='rmsprop',\n",
        "              loss='categorical_crossentropy',\n",
        "              metrics=['acc'])\n",
        "history = model.fit(x_train,y_train,\n",
        "                    epochs=10,\n",
        "                    batch_size=64,\n",
        "                    validation_data=(x_val,y_val))"
      ],
      "execution_count": null,
      "outputs": [
        {
          "output_type": "stream",
          "text": [
            "Train on 5000 samples, validate on 2500 samples\n",
            "Epoch 1/10\n",
            "5000/5000 [==============================] - 4s 705us/step - loss: 2.0781 - acc: 0.1430 - val_loss: 2.0555 - val_acc: 0.1900\n",
            "Epoch 2/10\n",
            "5000/5000 [==============================] - 3s 583us/step - loss: 1.9248 - acc: 0.3008 - val_loss: 1.9871 - val_acc: 0.2188\n",
            "Epoch 3/10\n",
            "5000/5000 [==============================] - 3s 583us/step - loss: 1.6929 - acc: 0.4492 - val_loss: 2.0346 - val_acc: 0.1932\n",
            "Epoch 4/10\n",
            "5000/5000 [==============================] - 3s 586us/step - loss: 1.4145 - acc: 0.6066 - val_loss: 1.9936 - val_acc: 0.2036\n",
            "Epoch 5/10\n",
            "5000/5000 [==============================] - 3s 590us/step - loss: 1.1285 - acc: 0.7328 - val_loss: 2.1515 - val_acc: 0.1844\n",
            "Epoch 6/10\n",
            "5000/5000 [==============================] - 3s 587us/step - loss: 0.8549 - acc: 0.8250 - val_loss: 2.0922 - val_acc: 0.2168\n",
            "Epoch 7/10\n",
            "5000/5000 [==============================] - 3s 582us/step - loss: 0.6365 - acc: 0.8850 - val_loss: 2.1764 - val_acc: 0.2264\n",
            "Epoch 8/10\n",
            "5000/5000 [==============================] - 3s 586us/step - loss: 0.4593 - acc: 0.9288 - val_loss: 2.4334 - val_acc: 0.1844\n",
            "Epoch 9/10\n",
            "5000/5000 [==============================] - 3s 591us/step - loss: 0.3511 - acc: 0.9458 - val_loss: 2.6449 - val_acc: 0.1940\n",
            "Epoch 10/10\n",
            "5000/5000 [==============================] - 3s 585us/step - loss: 0.2561 - acc: 0.9626 - val_loss: 2.5315 - val_acc: 0.2120\n"
          ],
          "name": "stdout"
        }
      ]
    },
    {
      "cell_type": "code",
      "metadata": {
        "id": "dQFSw7a2qAKe",
        "colab": {
          "base_uri": "https://localhost:8080/",
          "height": 545
        },
        "outputId": "1f03c3de-8fc8-4024-840f-56beb1b31be3"
      },
      "source": [
        "acc = history.history['acc']\n",
        "val_acc = history.history['val_acc']\n",
        "loss = history.history['loss']\n",
        "val_loss = history.history['val_loss']\n",
        "\n",
        "epochs = range(1, len(acc)+1)\n",
        "\n",
        "plt.plot(epochs, acc, 'bo', label ='Training acc')\n",
        "plt.plot(epochs, val_acc, 'b', label='Validation acc')\n",
        "plt.title('Training and validation accuracy')\n",
        "plt.legend()\n",
        "\n",
        "plt.figure()\n",
        "\n",
        "plt.plot(epochs, loss, 'bo', label='Training loss')\n",
        "plt.plot(epochs, val_loss, 'b', label='validation loss')\n",
        "plt.title('Training and validation loss')\n",
        "plt.legend()\n",
        "\n",
        "plt.show()"
      ],
      "execution_count": null,
      "outputs": [
        {
          "output_type": "display_data",
          "data": {
            "image/png": "[encoded data removed]",
            "text/plain": [
              "<Figure size 432x288 with 1 Axes>"
            ]
          },
          "metadata": {
            "tags": []
          }
        },
        {
          "output_type": "display_data",
          "data": {
            "image/png": "[encoded data removed]",
            "text/plain": [
              "<Figure size 432x288 with 1 Axes>"
            ]
          },
          "metadata": {
            "tags": []
          }
        }
      ]
    },
    {
      "cell_type": "code",
      "metadata": {
        "id": "47fteC1HNzHb",
        "colab": {
          "base_uri": "https://localhost:8080/",
          "height": 35
        },
        "outputId": "c60ba316-ef88-430d-da60-2bf4eacc5054"
      },
      "source": [
        "history = model.evaluate(x_test, y_test)"
      ],
      "execution_count": null,
      "outputs": [
        {
          "output_type": "stream",
          "text": [
            "2896/2896 [==============================] - 1s 222us/step\n"
          ],
          "name": "stdout"
        }
      ]
    },
    {
      "cell_type": "code",
      "metadata": {
        "id": "1x81ujZ5VY7r",
        "colab": {
          "base_uri": "https://localhost:8080/",
          "height": 35
        },
        "outputId": "49413937-86d6-4051-c46d-5e4aef26be64"
      },
      "source": [
        "history"
      ],
      "execution_count": null,
      "outputs": [
        {
          "output_type": "execute_result",
          "data": {
            "text/plain": [
              "[2.590470420721486, 0.19751381215469613]"
            ]
          },
          "metadata": {
            "tags": []
          },
          "execution_count": 106
        }
      ]
    }
  ]
}